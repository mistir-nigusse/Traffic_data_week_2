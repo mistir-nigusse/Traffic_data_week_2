{
 "cells": [
  {
   "cell_type": "code",
   "execution_count": 1,
   "metadata": {},
   "outputs": [],
   "source": [
    "%reload_ext autoreload\n",
    "%autoreload 2"
   ]
  },
  {
   "cell_type": "code",
   "execution_count": 2,
   "metadata": {},
   "outputs": [],
   "source": [
    "import matplotlib.pyplot as plt\n",
    "import pandas as pd\n",
    "pd.set_option('display.max_columns',200)"
   ]
  },
  {
   "cell_type": "code",
   "execution_count": 3,
   "metadata": {},
   "outputs": [
    {
     "data": {
      "text/html": [
       "<div>\n",
       "<style scoped>\n",
       "    .dataframe tbody tr th:only-of-type {\n",
       "        vertical-align: middle;\n",
       "    }\n",
       "\n",
       "    .dataframe tbody tr th {\n",
       "        vertical-align: top;\n",
       "    }\n",
       "\n",
       "    .dataframe thead th {\n",
       "        text-align: right;\n",
       "    }\n",
       "</style>\n",
       "<table border=\"1\" class=\"dataframe\">\n",
       "  <thead>\n",
       "    <tr style=\"text-align: right;\">\n",
       "      <th></th>\n",
       "      <th>track_id; type; traveled_d; avg_speed; lat; lon; speed; lon_acc; lat_acc; time</th>\n",
       "    </tr>\n",
       "  </thead>\n",
       "  <tbody>\n",
       "    <tr>\n",
       "      <th>0</th>\n",
       "      <td>1; Car; 33.82; 33.819575; 37.984242; 23.727558...</td>\n",
       "    </tr>\n",
       "  </tbody>\n",
       "</table>\n",
       "</div>"
      ],
      "text/plain": [
       "  track_id; type; traveled_d; avg_speed; lat; lon; speed; lon_acc; lat_acc; time\n",
       "0  1; Car; 33.82; 33.819575; 37.984242; 23.727558...                            "
      ]
     },
     "execution_count": 3,
     "metadata": {},
     "output_type": "execute_result"
    }
   ],
   "source": [
    "df = pd.read_csv('../data/data.csv')\n",
    "df.head(1)"
   ]
  },
  {
   "cell_type": "code",
   "execution_count": 4,
   "metadata": {},
   "outputs": [
    {
     "name": "stdout",
     "output_type": "stream",
     "text": [
      "<class 'pandas.core.frame.DataFrame'>\n",
      "RangeIndex: 1983 entries, 0 to 1982\n",
      "Data columns (total 1 columns):\n",
      " #   Column                                                                          Non-Null Count  Dtype \n",
      "---  ------                                                                          --------------  ----- \n",
      " 0   track_id; type; traveled_d; avg_speed; lat; lon; speed; lon_acc; lat_acc; time  1983 non-null   object\n",
      "dtypes: object(1)\n",
      "memory usage: 15.6+ KB\n"
     ]
    }
   ],
   "source": [
    "df.info()"
   ]
  },
  {
   "cell_type": "code",
   "execution_count": 5,
   "metadata": {},
   "outputs": [
    {
     "name": "stdout",
     "output_type": "stream",
     "text": [
      "track_id; type; traveled_d; avg_speed; lat; lon; speed; lon_acc; lat_acc; time\n",
      "\n"
     ]
    }
   ],
   "source": [
    "csv_file = \"../data/data.csv\"\n",
    "delimiter = ';'\n",
    "\n",
    "with open(csv_file, 'r') as file:\n",
    "    lines = file.readlines()\n",
    "    # lines = lines[1:]\n",
    "    # vehicle_information = \n",
    "    for line in lines:\n",
    "        # line = line.strip('\\n').strip(' ')\n",
    "        print(line)\n",
    "        break"
   ]
  },
  {
   "cell_type": "code",
   "execution_count": 6,
   "metadata": {},
   "outputs": [
    {
     "name": "stdout",
     "output_type": "stream",
     "text": [
      "[['1', 'Car', '33.82', '33.819575'], ['2', 'Bus', '56.70', '5.933777'], ['3', 'Bus', '75.05', '7.719714'], ['4', 'Car', '68.13', '6.193265'], ['5', 'Car', '41.33', '9.183527']]\n",
      "[['1', '37.984242', '23.727558', '22.1687', '2.0063', '0.1839', '0.000000'], ['1', '37.984241', '23.727555', '22.5001', '2.5968', '0.2089', '0.040000'], ['1', '37.984241', '23.727553', '22.9220', '3.2624', '0.2361', '0.080000'], ['1', '37.984240', '23.727550', '23.4343', '3.8528', '0.2758', '0.120000'], ['1', '37.984239', '23.727547', '24.0235', '4.3306', '0.3305', '0.160000'], ['1', '37.984238', '23.727545', '24.6734', '4.6955', '0.3994', '0.200000'], ['1', '37.984238', '23.727542', '25.3771', '5.0790', '0.4821', '0.240000'], ['1', '37.984237', '23.727540', '26.1429', '5.5569', '0.5803', '0.280000'], ['1', '37.984236', '23.727537', '26.9687', '5.9132', '0.6970', '0.320000'], ['1', '37.984236', '23.727535', '27.8215', '5.9314', '0.8332', '0.360000'], ['1', '37.984235', '23.727532', '28.6526', '5.6114', '0.9882', '0.400000'], ['1', '37.984234', '23.727529', '29.4327', '5.2249', '1.1607', '0.440000'], ['1', '37.984233', '23.727526', '30.1701', '5.0176', '1.3504', '0.480000'], ['1', '37.984233', '23.727523', '26.5764', '3.2773', '0.8918', '0.520000'], ['1', '37.984232', '23.727520', '27.0508', '3.3124', '1.0231', '0.560000'], ['1', '37.984231', '23.727517', '27.5276', '3.3102', '1.1650', '0.600000'], ['1', '37.984230', '23.727514', '28.0014', '3.2705', '1.3172', '0.640000'], ['1', '37.984229', '23.727510', '28.4683', '3.2147', '1.4773', '0.680000'], ['1', '37.984228', '23.727507', '28.9289', '3.1838', '1.6366', '0.720000'], ['1', '37.984227', '23.727503', '29.3917', '3.2449', '1.7926', '0.760000'], ['1', '37.984226', '23.727499', '29.8651', '3.3301', '1.9458', '0.800000'], ['1', '37.984225', '23.727495', '30.3451', '3.3372', '2.0961', '0.840000'], ['1', '37.984225', '23.727491', '30.8178', '3.2297', '2.2424', '0.880000'], ['1', '37.984224', '23.727487', '31.2666', '3.0043', '2.3825', '0.920000'], ['1', '37.984223', '23.727483', '31.6872', '2.8368', '2.5158', '0.960000'], ['1', '37.984222', '23.727479', '32.0898', '2.7563', '2.6425', '1.000000'], ['1', '37.984221', '23.727475', '32.4781', '2.6365', '2.7629', '1.040000'], ['1', '37.984220', '23.727470', '32.8440', '2.4457', '2.8766', '1.080000'], ['1', '37.984220', '23.727466', '33.1773', '2.1839', '2.9820', '1.120000'], ['1', '37.984219', '23.727462', '33.4714', '1.9022', '3.0774', '1.160000'], ['1', '37.984218', '23.727458', '33.7292', '1.6784', '3.1577', '1.200000'], ['1', '37.984218', '23.727453', '33.9604', '1.5322', '3.2219', '1.240000'], ['1', '37.984217', '23.727449', '34.1729', '1.4201', '3.2703', '1.280000'], ['1', '37.984217', '23.727445', '34.3726', '1.3537', '3.3035', '1.320000'], ['1', '37.984216', '23.727441', '34.5618', '1.2746', '3.3209', '1.360000'], ['1', '37.984216', '23.727436', '34.7395', '1.1930', '3.3213', '1.400000'], ['1', '37.984216', '23.727432', '34.9133', '1.2211', '3.3043', '1.440000'], ['1', '37.984216', '23.727428', '35.0974', '1.3362', '3.2708', '1.480000'], ['1', '37.984216', '23.727423', '35.3017', '1.5005', '3.2237', '1.520000'], ['1', '37.984216', '23.727419', '35.5264', '1.6194', '3.1635', '1.560000'], ['1', '37.984216', '23.727415', '35.7631', '1.6687', '3.0893', '1.600000'], ['1', '37.984216', '23.727410', '36.0082', '1.7348', '3.0002', '1.640000'], ['1', '37.984216', '23.727406', '36.2687', '1.8828', '2.8965', '1.680000'], ['1', '37.984216', '23.727401', '36.5542', '2.0819', '2.7785', '1.720000'], ['1', '37.984216', '23.727397', '36.8648', '2.2304', '2.6488', '1.760000'], ['1', '37.984216', '23.727392', '37.1901', '2.2874', '2.5159', '1.800000'], ['1', '37.984216', '23.727387', '37.5171', '2.2538', '2.3822', '1.840000'], ['1', '37.984217', '23.727383', '37.8407', '2.2406', '2.2482', '1.880000'], ['1', '37.984217', '23.727378', '38.1640', '2.2478', '2.1141', '1.920000'], ['1', '37.984217', '23.727373', '38.4843', '2.2010', '1.9811', '1.960000']]\n"
     ]
    }
   ],
   "source": [
    "with open(csv_file, 'r') as file:\n",
    "    lines = file.readlines()\n",
    "    # lines = lines[1:]\n",
    "    vehicle_information = []\n",
    "    trajectory_information = []\n",
    "     # jumping the first line which is the header ['track_id', ' type', ' traveled_d', ' avg_speed', ' lat', ' lon', ' speed', ' lon_acc', ' lat_acc', ' time']\n",
    "    lines = lines[1:]\n",
    "    for line in lines:\n",
    "        # removing the \\n at the end of the line\n",
    "        line = line.strip('\\n').strip(' ')\n",
    "        # splitting the contents based on ;\n",
    "        contents = line.split(delimiter)\n",
    "        # removing the white spaces\n",
    "        contents = [contents[i].strip() for i in range(len(contents))]\n",
    "\n",
    "        vehicle_information.append(contents[:4])\n",
    "\n",
    "        k = 4 # skipping the first 4 columns which are track_id, type, traveled_d, avg_speed\n",
    "        for i in range(k, len(contents),6):\n",
    "            # concatenating the track_id with the trajectory information\n",
    "            trajectory_information.append([contents[0],*contents[i:i+6]])\n",
    "\n",
    "            \n",
    "print(vehicle_information[0:5])\n",
    "print(trajectory_information[0:50])"
   ]
  },
  {
   "cell_type": "code",
   "execution_count": 7,
   "metadata": {},
   "outputs": [
    {
     "name": "stdout",
     "output_type": "stream",
     "text": [
      "(1983, 4)\n"
     ]
    },
    {
     "data": {
      "text/html": [
       "<div>\n",
       "<style scoped>\n",
       "    .dataframe tbody tr th:only-of-type {\n",
       "        vertical-align: middle;\n",
       "    }\n",
       "\n",
       "    .dataframe tbody tr th {\n",
       "        vertical-align: top;\n",
       "    }\n",
       "\n",
       "    .dataframe thead th {\n",
       "        text-align: right;\n",
       "    }\n",
       "</style>\n",
       "<table border=\"1\" class=\"dataframe\">\n",
       "  <thead>\n",
       "    <tr style=\"text-align: right;\">\n",
       "      <th></th>\n",
       "      <th>track_id</th>\n",
       "      <th>type</th>\n",
       "      <th>traveled_d</th>\n",
       "      <th>avg_speed</th>\n",
       "    </tr>\n",
       "  </thead>\n",
       "  <tbody>\n",
       "    <tr>\n",
       "      <th>0</th>\n",
       "      <td>1</td>\n",
       "      <td>Car</td>\n",
       "      <td>33.82</td>\n",
       "      <td>33.819575</td>\n",
       "    </tr>\n",
       "    <tr>\n",
       "      <th>1</th>\n",
       "      <td>2</td>\n",
       "      <td>Bus</td>\n",
       "      <td>56.70</td>\n",
       "      <td>5.933777</td>\n",
       "    </tr>\n",
       "    <tr>\n",
       "      <th>2</th>\n",
       "      <td>3</td>\n",
       "      <td>Bus</td>\n",
       "      <td>75.05</td>\n",
       "      <td>7.719714</td>\n",
       "    </tr>\n",
       "    <tr>\n",
       "      <th>3</th>\n",
       "      <td>4</td>\n",
       "      <td>Car</td>\n",
       "      <td>68.13</td>\n",
       "      <td>6.193265</td>\n",
       "    </tr>\n",
       "    <tr>\n",
       "      <th>4</th>\n",
       "      <td>5</td>\n",
       "      <td>Car</td>\n",
       "      <td>41.33</td>\n",
       "      <td>9.183527</td>\n",
       "    </tr>\n",
       "    <tr>\n",
       "      <th>5</th>\n",
       "      <td>6</td>\n",
       "      <td>Car</td>\n",
       "      <td>105.94</td>\n",
       "      <td>9.729502</td>\n",
       "    </tr>\n",
       "    <tr>\n",
       "      <th>6</th>\n",
       "      <td>7</td>\n",
       "      <td>Bus</td>\n",
       "      <td>122.24</td>\n",
       "      <td>10.330500</td>\n",
       "    </tr>\n",
       "    <tr>\n",
       "      <th>7</th>\n",
       "      <td>8</td>\n",
       "      <td>Car</td>\n",
       "      <td>165.57</td>\n",
       "      <td>14.259299</td>\n",
       "    </tr>\n",
       "    <tr>\n",
       "      <th>8</th>\n",
       "      <td>9</td>\n",
       "      <td>Car</td>\n",
       "      <td>172.65</td>\n",
       "      <td>12.581749</td>\n",
       "    </tr>\n",
       "    <tr>\n",
       "      <th>9</th>\n",
       "      <td>10</td>\n",
       "      <td>Car</td>\n",
       "      <td>146.50</td>\n",
       "      <td>13.185282</td>\n",
       "    </tr>\n",
       "  </tbody>\n",
       "</table>\n",
       "</div>"
      ],
      "text/plain": [
       "  track_id type traveled_d  avg_speed\n",
       "0        1  Car      33.82  33.819575\n",
       "1        2  Bus      56.70   5.933777\n",
       "2        3  Bus      75.05   7.719714\n",
       "3        4  Car      68.13   6.193265\n",
       "4        5  Car      41.33   9.183527\n",
       "5        6  Car     105.94   9.729502\n",
       "6        7  Bus     122.24  10.330500\n",
       "7        8  Car     165.57  14.259299\n",
       "8        9  Car     172.65  12.581749\n",
       "9       10  Car     146.50  13.185282"
      ]
     },
     "execution_count": 7,
     "metadata": {},
     "output_type": "execute_result"
    }
   ],
   "source": [
    "df_vehicle = pd.DataFrame(data= vehicle_information,columns=['track_id','type','traveled_d','avg_speed'])\n",
    "\n",
    "print(df_vehicle.shape)\n",
    "df_vehicle.head(10)"
   ]
  },
  {
   "cell_type": "code",
   "execution_count": 8,
   "metadata": {},
   "outputs": [
    {
     "name": "stdout",
     "output_type": "stream",
     "text": [
      "(3149376, 7)\n"
     ]
    },
    {
     "data": {
      "text/html": [
       "<div>\n",
       "<style scoped>\n",
       "    .dataframe tbody tr th:only-of-type {\n",
       "        vertical-align: middle;\n",
       "    }\n",
       "\n",
       "    .dataframe tbody tr th {\n",
       "        vertical-align: top;\n",
       "    }\n",
       "\n",
       "    .dataframe thead th {\n",
       "        text-align: right;\n",
       "    }\n",
       "</style>\n",
       "<table border=\"1\" class=\"dataframe\">\n",
       "  <thead>\n",
       "    <tr style=\"text-align: right;\">\n",
       "      <th></th>\n",
       "      <th>track_id</th>\n",
       "      <th>lat</th>\n",
       "      <th>lon</th>\n",
       "      <th>speed</th>\n",
       "      <th>lon_acc</th>\n",
       "      <th>lat_acc</th>\n",
       "      <th>time</th>\n",
       "    </tr>\n",
       "  </thead>\n",
       "  <tbody>\n",
       "    <tr>\n",
       "      <th>0</th>\n",
       "      <td>1</td>\n",
       "      <td>37.984242</td>\n",
       "      <td>23.727558</td>\n",
       "      <td>22.1687</td>\n",
       "      <td>2.0063</td>\n",
       "      <td>0.1839</td>\n",
       "      <td>0.000000</td>\n",
       "    </tr>\n",
       "    <tr>\n",
       "      <th>1</th>\n",
       "      <td>1</td>\n",
       "      <td>37.984241</td>\n",
       "      <td>23.727555</td>\n",
       "      <td>22.5001</td>\n",
       "      <td>2.5968</td>\n",
       "      <td>0.2089</td>\n",
       "      <td>0.040000</td>\n",
       "    </tr>\n",
       "    <tr>\n",
       "      <th>2</th>\n",
       "      <td>1</td>\n",
       "      <td>37.984241</td>\n",
       "      <td>23.727553</td>\n",
       "      <td>22.9220</td>\n",
       "      <td>3.2624</td>\n",
       "      <td>0.2361</td>\n",
       "      <td>0.080000</td>\n",
       "    </tr>\n",
       "    <tr>\n",
       "      <th>3</th>\n",
       "      <td>1</td>\n",
       "      <td>37.984240</td>\n",
       "      <td>23.727550</td>\n",
       "      <td>23.4343</td>\n",
       "      <td>3.8528</td>\n",
       "      <td>0.2758</td>\n",
       "      <td>0.120000</td>\n",
       "    </tr>\n",
       "    <tr>\n",
       "      <th>4</th>\n",
       "      <td>1</td>\n",
       "      <td>37.984239</td>\n",
       "      <td>23.727547</td>\n",
       "      <td>24.0235</td>\n",
       "      <td>4.3306</td>\n",
       "      <td>0.3305</td>\n",
       "      <td>0.160000</td>\n",
       "    </tr>\n",
       "    <tr>\n",
       "      <th>...</th>\n",
       "      <td>...</td>\n",
       "      <td>...</td>\n",
       "      <td>...</td>\n",
       "      <td>...</td>\n",
       "      <td>...</td>\n",
       "      <td>...</td>\n",
       "      <td>...</td>\n",
       "    </tr>\n",
       "    <tr>\n",
       "      <th>995</th>\n",
       "      <td>3</td>\n",
       "      <td>37.984391</td>\n",
       "      <td>23.727853</td>\n",
       "      <td>15.4767</td>\n",
       "      <td>0.0836</td>\n",
       "      <td>-0.3374</td>\n",
       "      <td>1.640000</td>\n",
       "    </tr>\n",
       "    <tr>\n",
       "      <th>996</th>\n",
       "      <td>3</td>\n",
       "      <td>37.984391</td>\n",
       "      <td>23.727851</td>\n",
       "      <td>15.4885</td>\n",
       "      <td>0.0808</td>\n",
       "      <td>-0.3361</td>\n",
       "      <td>1.680000</td>\n",
       "    </tr>\n",
       "    <tr>\n",
       "      <th>997</th>\n",
       "      <td>3</td>\n",
       "      <td>37.984390</td>\n",
       "      <td>23.727850</td>\n",
       "      <td>15.4999</td>\n",
       "      <td>0.0778</td>\n",
       "      <td>-0.3342</td>\n",
       "      <td>1.720000</td>\n",
       "    </tr>\n",
       "    <tr>\n",
       "      <th>998</th>\n",
       "      <td>3</td>\n",
       "      <td>37.984390</td>\n",
       "      <td>23.727848</td>\n",
       "      <td>15.5109</td>\n",
       "      <td>0.0745</td>\n",
       "      <td>-0.3316</td>\n",
       "      <td>1.760000</td>\n",
       "    </tr>\n",
       "    <tr>\n",
       "      <th>999</th>\n",
       "      <td>3</td>\n",
       "      <td>37.984389</td>\n",
       "      <td>23.727846</td>\n",
       "      <td>15.5213</td>\n",
       "      <td>0.0709</td>\n",
       "      <td>-0.3285</td>\n",
       "      <td>1.800000</td>\n",
       "    </tr>\n",
       "  </tbody>\n",
       "</table>\n",
       "<p>1000 rows × 7 columns</p>\n",
       "</div>"
      ],
      "text/plain": [
       "    track_id        lat        lon    speed lon_acc  lat_acc      time\n",
       "0          1  37.984242  23.727558  22.1687  2.0063   0.1839  0.000000\n",
       "1          1  37.984241  23.727555  22.5001  2.5968   0.2089  0.040000\n",
       "2          1  37.984241  23.727553  22.9220  3.2624   0.2361  0.080000\n",
       "3          1  37.984240  23.727550  23.4343  3.8528   0.2758  0.120000\n",
       "4          1  37.984239  23.727547  24.0235  4.3306   0.3305  0.160000\n",
       "..       ...        ...        ...      ...     ...      ...       ...\n",
       "995        3  37.984391  23.727853  15.4767  0.0836  -0.3374  1.640000\n",
       "996        3  37.984391  23.727851  15.4885  0.0808  -0.3361  1.680000\n",
       "997        3  37.984390  23.727850  15.4999  0.0778  -0.3342  1.720000\n",
       "998        3  37.984390  23.727848  15.5109  0.0745  -0.3316  1.760000\n",
       "999        3  37.984389  23.727846  15.5213  0.0709  -0.3285  1.800000\n",
       "\n",
       "[1000 rows x 7 columns]"
      ]
     },
     "execution_count": 8,
     "metadata": {},
     "output_type": "execute_result"
    }
   ],
   "source": [
    "df_trajectory = pd.DataFrame(data= trajectory_information ,columns=['track_id','lat','lon','speed','lon_acc','lat_acc','time'])\n",
    "\n",
    "print(df_trajectory.shape)\n",
    "df_trajectory.head(1000)"
   ]
  },
  {
   "cell_type": "code",
   "execution_count": 9,
   "metadata": {},
   "outputs": [],
   "source": [
    "df_trajectory.dropna(subset=['lat','lon','speed','lon_acc','time'],inplace=True)\n"
   ]
  },
  {
   "cell_type": "code",
   "execution_count": 10,
   "metadata": {},
   "outputs": [
    {
     "data": {
      "text/plain": [
       "track_id       object\n",
       "type           object\n",
       "traveled_d    float64\n",
       "avg_speed     float64\n",
       "dtype: object"
      ]
     },
     "execution_count": 10,
     "metadata": {},
     "output_type": "execute_result"
    }
   ],
   "source": [
    "# converting data types to proper format\n",
    "df_vehicle['traveled_d'] = df_vehicle['traveled_d'].astype(float)\n",
    "df_vehicle['avg_speed'] = df_vehicle['avg_speed'].astype(float)\n",
    "df_vehicle.dtypes"
   ]
  },
  {
   "cell_type": "code",
   "execution_count": 11,
   "metadata": {},
   "outputs": [
    {
     "data": {
      "text/plain": [
       "track_id     object\n",
       "lat         float64\n",
       "lon         float64\n",
       "speed       float64\n",
       "lon_acc     float64\n",
       "lat_acc     float64\n",
       "time        float64\n",
       "dtype: object"
      ]
     },
     "execution_count": 11,
     "metadata": {},
     "output_type": "execute_result"
    }
   ],
   "source": [
    "df_trajectory['lat'] = df_trajectory['lat'].astype(float)\n",
    "df_trajectory['lon'] = df_trajectory['lon'].astype(float)\n",
    "df_trajectory['speed'] = df_trajectory['speed'].astype(float)\n",
    "df_trajectory['lon_acc'] = df_trajectory['lon_acc'].astype(float)\n",
    "df_trajectory['lat_acc'] = df_trajectory['lat_acc'].astype(float)\n",
    "df_trajectory['time'] = df_trajectory['time'].astype(float)\n",
    "df_trajectory.dtypes"
   ]
  },
  {
   "cell_type": "code",
   "execution_count": 17,
   "metadata": {},
   "outputs": [],
   "source": [
    "import os, sys\n",
    "# Add parent directory to path to import modules from src\n",
    "rpath = os.path.abspath('..')\n",
    "if rpath not in sys.path:\n",
    "    sys.path.insert(0, rpath)\n",
    "\n",
    "from utils.db_util import DBConfig\n"
   ]
  },
  {
   "cell_type": "code",
   "execution_count": 20,
   "metadata": {},
   "outputs": [],
   "source": [
    "db = DBConfig()\n",
    "db.insert_vehicle_information_df_to_db(df_vehicle, 'vehicle_information')\n"
   ]
  },
  {
   "cell_type": "code",
   "execution_count": 21,
   "metadata": {},
   "outputs": [],
   "source": [
    "db.insert_trajectory_df_to_db(df_trajectory, 'trajectory_information')\n"
   ]
  },
  {
   "cell_type": "code",
   "execution_count": 22,
   "metadata": {},
   "outputs": [],
   "source": [
    "vehicle_information_from_database = db.read_data_from_db('vehicle_information')\n",
    "trajectory_information_from_database =db.read_data_from_db('trajectory_information')\n"
   ]
  },
  {
   "cell_type": "code",
   "execution_count": 23,
   "metadata": {},
   "outputs": [
    {
     "name": "stdout",
     "output_type": "stream",
     "text": [
      "      track_id        type  traveled_d  avg_speed\n",
      "0            1         Car       33.82  33.819575\n",
      "1            2         Bus       56.70   5.933777\n",
      "2            3         Bus       75.05   7.719714\n",
      "3            4         Car       68.13   6.193265\n",
      "4            5         Car       41.33   9.183527\n",
      "...        ...         ...         ...        ...\n",
      "1978      1979         Bus        6.33  18.997000\n",
      "1979      1980         Car       12.37  44.540089\n",
      "1980      1981         Car        4.34  39.069402\n",
      "1981      1982  Motorcycle        5.46  49.180562\n",
      "1982      1983        Taxi        1.96  17.608302\n",
      "\n",
      "[1983 rows x 4 columns]\n"
     ]
    }
   ],
   "source": [
    "print(vehicle_information_from_database)\n"
   ]
  },
  {
   "cell_type": "code",
   "execution_count": 24,
   "metadata": {},
   "outputs": [
    {
     "name": "stdout",
     "output_type": "stream",
     "text": [
      "         track_id        lat        lon    speed  lon_acc  lat_acc    time\n",
      "0               1  37.984242  23.727558  22.1687   2.0063   0.1839    0.00\n",
      "1               1  37.984241  23.727555  22.5001   2.5968   0.2089    0.04\n",
      "2               1  37.984241  23.727553  22.9220   3.2624   0.2361    0.08\n",
      "3               1  37.984240  23.727550  23.4343   3.8528   0.2758    0.12\n",
      "4               1  37.984239  23.727547  24.0235   4.3306   0.3305    0.16\n",
      "...           ...        ...        ...      ...      ...      ...     ...\n",
      "3147388      1983  37.983811  23.727537  19.5648   0.0000   0.0000  742.44\n",
      "3147389      1983  37.983812  23.727539  19.5648   0.0000   0.0000  742.48\n",
      "3147390      1983  37.983812  23.727542  19.5648   0.0000   0.0000  742.52\n",
      "3147391      1983  37.983812  23.727544  19.5648   0.0000   0.0000  742.56\n",
      "3147392      1983  37.983813  23.727546  19.5648   0.0000   0.0000  742.60\n",
      "\n",
      "[3147393 rows x 7 columns]\n"
     ]
    }
   ],
   "source": [
    "print(trajectory_information_from_database)"
   ]
  },
  {
   "cell_type": "code",
   "execution_count": 25,
   "metadata": {},
   "outputs": [
    {
     "data": {
      "text/html": [
       "<div>\n",
       "<style scoped>\n",
       "    .dataframe tbody tr th:only-of-type {\n",
       "        vertical-align: middle;\n",
       "    }\n",
       "\n",
       "    .dataframe tbody tr th {\n",
       "        vertical-align: top;\n",
       "    }\n",
       "\n",
       "    .dataframe thead th {\n",
       "        text-align: right;\n",
       "    }\n",
       "</style>\n",
       "<table border=\"1\" class=\"dataframe\">\n",
       "  <thead>\n",
       "    <tr style=\"text-align: right;\">\n",
       "      <th></th>\n",
       "      <th>track_id</th>\n",
       "      <th>type</th>\n",
       "      <th>traveled_d</th>\n",
       "      <th>avg_speed</th>\n",
       "    </tr>\n",
       "  </thead>\n",
       "  <tbody>\n",
       "    <tr>\n",
       "      <th>0</th>\n",
       "      <td>1</td>\n",
       "      <td>Car</td>\n",
       "      <td>33.82</td>\n",
       "      <td>33.819575</td>\n",
       "    </tr>\n",
       "    <tr>\n",
       "      <th>1</th>\n",
       "      <td>2</td>\n",
       "      <td>Bus</td>\n",
       "      <td>56.70</td>\n",
       "      <td>5.933777</td>\n",
       "    </tr>\n",
       "    <tr>\n",
       "      <th>2</th>\n",
       "      <td>3</td>\n",
       "      <td>Bus</td>\n",
       "      <td>75.05</td>\n",
       "      <td>7.719714</td>\n",
       "    </tr>\n",
       "    <tr>\n",
       "      <th>3</th>\n",
       "      <td>4</td>\n",
       "      <td>Car</td>\n",
       "      <td>68.13</td>\n",
       "      <td>6.193265</td>\n",
       "    </tr>\n",
       "    <tr>\n",
       "      <th>4</th>\n",
       "      <td>5</td>\n",
       "      <td>Car</td>\n",
       "      <td>41.33</td>\n",
       "      <td>9.183527</td>\n",
       "    </tr>\n",
       "    <tr>\n",
       "      <th>5</th>\n",
       "      <td>6</td>\n",
       "      <td>Car</td>\n",
       "      <td>105.94</td>\n",
       "      <td>9.729502</td>\n",
       "    </tr>\n",
       "    <tr>\n",
       "      <th>6</th>\n",
       "      <td>7</td>\n",
       "      <td>Bus</td>\n",
       "      <td>122.24</td>\n",
       "      <td>10.330500</td>\n",
       "    </tr>\n",
       "    <tr>\n",
       "      <th>7</th>\n",
       "      <td>8</td>\n",
       "      <td>Car</td>\n",
       "      <td>165.57</td>\n",
       "      <td>14.259299</td>\n",
       "    </tr>\n",
       "    <tr>\n",
       "      <th>8</th>\n",
       "      <td>9</td>\n",
       "      <td>Car</td>\n",
       "      <td>172.65</td>\n",
       "      <td>12.581749</td>\n",
       "    </tr>\n",
       "    <tr>\n",
       "      <th>9</th>\n",
       "      <td>10</td>\n",
       "      <td>Car</td>\n",
       "      <td>146.50</td>\n",
       "      <td>13.185282</td>\n",
       "    </tr>\n",
       "  </tbody>\n",
       "</table>\n",
       "</div>"
      ],
      "text/plain": [
       "  track_id type  traveled_d  avg_speed\n",
       "0        1  Car       33.82  33.819575\n",
       "1        2  Bus       56.70   5.933777\n",
       "2        3  Bus       75.05   7.719714\n",
       "3        4  Car       68.13   6.193265\n",
       "4        5  Car       41.33   9.183527\n",
       "5        6  Car      105.94   9.729502\n",
       "6        7  Bus      122.24  10.330500\n",
       "7        8  Car      165.57  14.259299\n",
       "8        9  Car      172.65  12.581749\n",
       "9       10  Car      146.50  13.185282"
      ]
     },
     "execution_count": 25,
     "metadata": {},
     "output_type": "execute_result"
    }
   ],
   "source": [
    "df_vehicle.head(10)\n"
   ]
  },
  {
   "cell_type": "code",
   "execution_count": 26,
   "metadata": {},
   "outputs": [
    {
     "data": {
      "image/png": "[encoded data removed]",
      "text/plain": [
       "<Figure size 640x480 with 1 Axes>"
      ]
     },
     "metadata": {},
     "output_type": "display_data"
    }
   ],
   "source": [
    "ax = df_vehicle.groupby('type')['type'].value_counts() \\\n",
    "    .sort_values(ascending=False) \\\n",
    "    .plot(kind='barh', title='Number of vehicle types in dataset')\n",
    "\n",
    "ax.set_xlabel('Number of vehicles'); ax.set_ylabel('Vehicle Type');"
   ]
  },
  {
   "cell_type": "code",
   "execution_count": 27,
   "metadata": {},
   "outputs": [
    {
     "data": {
      "image/png": "[encoded data removed]",
      "text/plain": [
       "<Figure size 640x480 with 1 Axes>"
      ]
     },
     "metadata": {},
     "output_type": "display_data"
    }
   ],
   "source": [
    "# group the data by type and plot the vehicles that traveled the longest distance overall\n",
    "df_longest_travel = df_vehicle.groupby('type')['traveled_d'].sum().sort_values().reset_index()\n",
    "plt.plot(df_longest_travel['type'], df_longest_travel['traveled_d'])\n",
    "plt.xlabel('Vehicle Type')\n",
    "plt.ylabel('Total Traveled Distance')\n",
    "plt.title('Total Traveled Distance by Vehicle Type')\n",
    "# increase the plot size\n",
    "plt.rcParams[\"figure.figsize\"] = (12, 5)"
   ]
  },
  {
   "cell_type": "code",
   "execution_count": 28,
   "metadata": {},
   "outputs": [
    {
     "data": {
      "text/plain": [
       "Text(0.5, 1.0, 'Average Speed by Vehicle Type')"
      ]
     },
     "execution_count": 28,
     "metadata": {},
     "output_type": "execute_result"
    },
    {
     "data": {
      "image/png": "[encoded data removed]",
      "text/plain": [
       "<Figure size 1200x500 with 1 Axes>"
      ]
     },
     "metadata": {},
     "output_type": "display_data"
    }
   ],
   "source": [
    "df_average_speed = df_vehicle.groupby('type')['avg_speed'].mean().sort_values().reset_index()\n",
    "plt.barh(df_average_speed['type'], df_average_speed['avg_speed'])\n",
    "plt.xlabel('Average Speed')\n",
    "plt.ylabel('Vehicle Type')\n",
    "plt.title('Average Speed by Vehicle Type')"
   ]
  }
 ],
 "metadata": {
  "kernelspec": {
   "display_name": "Python 3",
   "language": "python",
   "name": "python3"
  },
  "language_info": {
   "codemirror_mode": {
    "name": "ipython",
    "version": 3
   },
   "file_extension": ".py",
   "mimetype": "text/x-python",
   "name": "python",
   "nbconvert_exporter": "python",
   "pygments_lexer": "ipython3",
   "version": "3.12.2"
  }
 },
 "nbformat": 4,
 "nbformat_minor": 2
}
